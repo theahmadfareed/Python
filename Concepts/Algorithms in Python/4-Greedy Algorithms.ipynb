{
 "cells": [
  {
   "cell_type": "markdown",
   "id": "f4536b1c",
   "metadata": {},
   "source": [
    "# Assign Mice to Holes"
   ]
  },
  {
   "cell_type": "code",
   "execution_count": 2,
   "id": "d594d35d",
   "metadata": {},
   "outputs": [
    {
     "name": "stdout",
     "output_type": "stream",
     "text": [
      "The last mouse gets into the hole in time 4\n"
     ]
    }
   ],
   "source": [
    "def assign_mice_to_holes(mice, holes):\n",
    "    if len(mice) != len(holes):\n",
    "        return 'Number of mice and holes are not same'\n",
    "    \n",
    "    mice.sort()\n",
    "    holes.sort()\n",
    "    \n",
    "    max_diff = 0\n",
    "    \n",
    "    for i in range (len(mice)):\n",
    "        if max_diff < abs(mice[i] - holes[i]):\n",
    "            max_diff = abs(mice[i] - holes[i])\n",
    "    return max_diff\n",
    "\n",
    "mice = [4,-4, 2]\n",
    "holes = [4, 0, 5]\n",
    "\n",
    "min_time = assign_mice_to_holes(mice, holes)\n",
    "print('The last mouse gets into the hole in time', min_time)"
   ]
  },
  {
   "cell_type": "markdown",
   "id": "650df9ee",
   "metadata": {},
   "source": [
    "# Fractional Knapsack"
   ]
  },
  {
   "cell_type": "code",
   "execution_count": 4,
   "id": "6a1b70fd",
   "metadata": {},
   "outputs": [
    {
     "name": "stdout",
     "output_type": "stream",
     "text": [
      "[0, 1, 2, 3, 4]\n",
      "[5, 2, 9, 2, 3]\n",
      "[9, 5, 3, 2, 2]\n",
      "[0, 0, 0, 0, 0]\n",
      "500\n"
     ]
    }
   ],
   "source": [
    "def fractional_knapsack(value, weight, capacity):\n",
    "    items = list(range(len(value)))\n",
    "    print(items)\n",
    "    ratio = [v//w for v,w in zip(value, weight)]\n",
    "    print(ratio)\n",
    "    str_ratios = sorted(ratio, reverse = True)\n",
    "    print(str_ratios)\n",
    "    items.sort(key = lambda i: ratio[i], reverse = True)\n",
    "    \n",
    "    max_value = 0\n",
    "    fractions = [0]*len(value)\n",
    "    print(fractions)\n",
    "    for i in items:\n",
    "        if weight[i] <= capacity:\n",
    "            fractions[i] = 1\n",
    "            max_value += value[i]\n",
    "            capacity -= weight[i]\n",
    "        else:\n",
    "            fractions[i] = capacity//weight[i]\n",
    "            max_value += value[i]*capacity//weight[i]\n",
    "            \n",
    "    return max_value\n",
    "\n",
    "value = [150,100,90,140,120]\n",
    "weight = [30,50,10,70,40]\n",
    "capacity = 150\n",
    "\n",
    "print(fractional_knapsack(value, weight, capacity))"
   ]
  },
  {
   "cell_type": "markdown",
   "id": "f6731099",
   "metadata": {},
   "source": [
    "# Egyptian Fractions"
   ]
  },
  {
   "cell_type": "code",
   "execution_count": 9,
   "id": "33eedc73",
   "metadata": {},
   "outputs": [
    {
     "name": "stdout",
     "output_type": "stream",
     "text": [
      "1/2 + 1/12\n"
     ]
    }
   ],
   "source": [
    "import math\n",
    "\n",
    "def egyptian_frac(numerator, denominator):\n",
    "    egypt_lst = []\n",
    "    while numerator != 0:\n",
    "        x = math.ceil(denominator / numerator)\n",
    "        egypt_lst.append(x)\n",
    "        \n",
    "        numerator = x * numerator - denominator\n",
    "        denominator *= x\n",
    "    str = \"\"\n",
    "    \n",
    "    for ones in egypt_lst:\n",
    "        str += \"1/{0} + \".format(ones)\n",
    "    final_str = str[:-3]\n",
    "    return final_str\n",
    "\n",
    "print(egyptian_frac(7,12))\n",
    "    "
   ]
  },
  {
   "cell_type": "code",
   "execution_count": null,
   "id": "f8da77c1",
   "metadata": {},
   "outputs": [],
   "source": []
  }
 ],
 "metadata": {
  "kernelspec": {
   "display_name": "Python 3 (ipykernel)",
   "language": "python",
   "name": "python3"
  },
  "language_info": {
   "codemirror_mode": {
    "name": "ipython",
    "version": 3
   },
   "file_extension": ".py",
   "mimetype": "text/x-python",
   "name": "python",
   "nbconvert_exporter": "python",
   "pygments_lexer": "ipython3",
   "version": "3.10.11"
  }
 },
 "nbformat": 4,
 "nbformat_minor": 5
}
