{
 "cells": [
  {
   "cell_type": "markdown",
   "id": "ce522078",
   "metadata": {},
   "source": [
    "# Factorial"
   ]
  },
  {
   "cell_type": "code",
   "execution_count": 7,
   "id": "cb35a76f",
   "metadata": {},
   "outputs": [
    {
     "name": "stdout",
     "output_type": "stream",
     "text": [
      "120\n"
     ]
    }
   ],
   "source": [
    "def iterative_factorial(n):\n",
    "    fact = 1\n",
    "    for i in range(2, n+1):\n",
    "        fact *= i\n",
    "    return fact\n",
    "\n",
    "print(iterative_factorial(5))"
   ]
  },
  {
   "cell_type": "code",
   "execution_count": 8,
   "id": "ceb482d9",
   "metadata": {},
   "outputs": [
    {
     "name": "stdout",
     "output_type": "stream",
     "text": [
      "120\n"
     ]
    }
   ],
   "source": [
    "def recursive_factorial(n):\n",
    "    if n == 1:\n",
    "        return n\n",
    "    else:\n",
    "        fact = recursive_factorial(n-1)\n",
    "        fact *= n\n",
    "    return fact\n",
    "\n",
    "print(recursive_factorial(5))"
   ]
  },
  {
   "cell_type": "code",
   "execution_count": 9,
   "id": "65f9e380",
   "metadata": {},
   "outputs": [
    {
     "name": "stdout",
     "output_type": "stream",
     "text": [
      "120\n"
     ]
    }
   ],
   "source": [
    "def recursive_factorial(n):\n",
    "    if n == 1: \n",
    "        return n\n",
    "    else: \n",
    "        return n * recursive_factorial(n-1)\n",
    "    \n",
    "print(recursive_factorial(5))"
   ]
  },
  {
   "cell_type": "markdown",
   "id": "1242666f",
   "metadata": {},
   "source": [
    "# Permutations"
   ]
  },
  {
   "cell_type": "code",
   "execution_count": 10,
   "id": "51a64c9c",
   "metadata": {},
   "outputs": [
    {
     "name": "stdout",
     "output_type": "stream",
     "text": [
      "ab\n",
      "ba\n"
     ]
    }
   ],
   "source": [
    "from math import factorial\n",
    "\n",
    "def iterative_permutations(str):\n",
    "    for p in range(factorial(len(str))):\n",
    "        print(''.join(str))\n",
    "        i = len(str)-1\n",
    "        while i > 0 and str[i-1] > str[i]:\n",
    "            i -= 1\n",
    "        str[i:] = reversed(str[i:])\n",
    "        if i > 0:\n",
    "            q = i\n",
    "            while str[i-1] > str[q]:\n",
    "                q += 1\n",
    "            temp = str[i-1]\n",
    "            str[i-1] = str[q]\n",
    "            str[q] = temp\n",
    "            \n",
    "s = 'ab'\n",
    "s = list(s)\n",
    "iterative_permutations(s)"
   ]
  },
  {
   "cell_type": "code",
   "execution_count": 11,
   "id": "114bd789",
   "metadata": {},
   "outputs": [
    {
     "name": "stdout",
     "output_type": "stream",
     "text": [
      "ba\n",
      "ab\n",
      "None\n"
     ]
    }
   ],
   "source": [
    "def recursive_permutations(str, pocket=''):\n",
    "    if len(str) == 0:\n",
    "        print(pocket)\n",
    "    else:\n",
    "        for i in range((len(str))):\n",
    "            letter = str[i]\n",
    "            front = str[0:i]\n",
    "            back = str[i+1:]\n",
    "            together = front + back\n",
    "            recursive_permutations(together, letter + pocket)\n",
    "            \n",
    "print(recursive_permutations('ab',''))"
   ]
  },
  {
   "cell_type": "markdown",
   "id": "b59920d7",
   "metadata": {},
   "source": [
    "# N Queens Problem"
   ]
  },
  {
   "cell_type": "code",
   "execution_count": 12,
   "id": "d090fa4d",
   "metadata": {},
   "outputs": [
    {
     "name": "stdout",
     "output_type": "stream",
     "text": [
      "[1, 0, 0, 0, 0, 0, 0, 0, 0, 0, 0, 0, 0, 0, 0, 0]\n",
      "[0, 0, 0, 1, 0, 0, 0, 0, 0, 0, 0, 0, 0, 0, 0, 0]\n",
      "[0, 1, 0, 0, 0, 0, 0, 0, 0, 0, 0, 0, 0, 0, 0, 0]\n",
      "[0, 0, 0, 0, 0, 0, 0, 0, 0, 0, 0, 0, 1, 0, 0, 0]\n",
      "[0, 0, 1, 0, 0, 0, 0, 0, 0, 0, 0, 0, 0, 0, 0, 0]\n",
      "[0, 0, 0, 0, 0, 0, 0, 0, 0, 1, 0, 0, 0, 0, 0, 0]\n",
      "[0, 0, 0, 0, 0, 0, 0, 0, 0, 0, 0, 1, 0, 0, 0, 0]\n",
      "[0, 0, 0, 0, 0, 0, 0, 0, 0, 0, 0, 0, 0, 0, 1, 0]\n",
      "[0, 0, 0, 0, 0, 1, 0, 0, 0, 0, 0, 0, 0, 0, 0, 0]\n",
      "[0, 0, 0, 0, 0, 0, 0, 0, 0, 0, 0, 0, 0, 0, 0, 1]\n",
      "[0, 0, 0, 0, 0, 0, 0, 0, 0, 0, 0, 0, 0, 1, 0, 0]\n",
      "[0, 0, 0, 0, 0, 0, 0, 1, 0, 0, 0, 0, 0, 0, 0, 0]\n",
      "[0, 0, 0, 0, 1, 0, 0, 0, 0, 0, 0, 0, 0, 0, 0, 0]\n",
      "[0, 0, 0, 0, 0, 0, 1, 0, 0, 0, 0, 0, 0, 0, 0, 0]\n",
      "[0, 0, 0, 0, 0, 0, 0, 0, 1, 0, 0, 0, 0, 0, 0, 0]\n",
      "[0, 0, 0, 0, 0, 0, 0, 0, 0, 0, 1, 0, 0, 0, 0, 0]\n",
      "0.63\n"
     ]
    }
   ],
   "source": [
    "import time\n",
    "\n",
    "def is_valid(board, row, col):\n",
    "    \"\"\"\n",
    "    Check if it's valid to place a queen at board[row][col].\n",
    "    \"\"\"\n",
    "    # Check this row on the left side\n",
    "    for i in range(col):\n",
    "        if board[row][i] == 1:\n",
    "            return False\n",
    "\n",
    "    # Check upper diagonal on left side\n",
    "    for i, j in zip(range(row, -1, -1), range(col, -1, -1)):\n",
    "        if board[i][j] == 1:\n",
    "            return False\n",
    "\n",
    "    # Check lower diagonal on left side\n",
    "    for i, j in zip(range(row, len(board)), range(col, -1, -1)):\n",
    "        if board[i][j] == 1:\n",
    "            return False\n",
    "\n",
    "    return True\n",
    "\n",
    "\n",
    "def solve(board, col):\n",
    "    \"\"\"\n",
    "    Use backtracking to find all solutions to the 8-queens problem.\n",
    "    \"\"\"\n",
    "    # Base case: all queens are placed\n",
    "    if col >= len(board):\n",
    "        return True\n",
    "\n",
    "    for i in range(len(board)):\n",
    "        if is_valid(board, i, col):\n",
    "            # Place queen on board[i][col]\n",
    "            board[i][col] = 1\n",
    "\n",
    "            # Recursively place rest of the queens\n",
    "            if solve(board, col+1):\n",
    "                return True\n",
    "\n",
    "            # If placing queen at board[i][col] doesn't lead to a solution\n",
    "            # then backtrack and try placing queen on the next row of this column\n",
    "            board[i][col] = 0\n",
    "\n",
    "    # If we couldn't place a queen anywhere in this column, return False\n",
    "    return False\n",
    "\n",
    "\n",
    "def print_board(board):\n",
    "    \"\"\"\n",
    "    Print the board.\n",
    "    \"\"\"\n",
    "    for row in board:\n",
    "        print(row)\n",
    "\n",
    "# Test the function\n",
    "board = [[0 for _ in range(16)] for _ in range(16)]\n",
    "start_time = time.time()\n",
    "\n",
    "solve(board, 0)\n",
    "print_board(board)\n",
    "\n",
    "end_time = time.time()\n",
    "print(round(end_time - start_time,2))"
   ]
  }
 ],
 "metadata": {
  "kernelspec": {
   "display_name": "Python 3 (ipykernel)",
   "language": "python",
   "name": "python3"
  },
  "language_info": {
   "codemirror_mode": {
    "name": "ipython",
    "version": 3
   },
   "file_extension": ".py",
   "mimetype": "text/x-python",
   "name": "python",
   "nbconvert_exporter": "python",
   "pygments_lexer": "ipython3",
   "version": "3.10.11"
  }
 },
 "nbformat": 4,
 "nbformat_minor": 5
}
