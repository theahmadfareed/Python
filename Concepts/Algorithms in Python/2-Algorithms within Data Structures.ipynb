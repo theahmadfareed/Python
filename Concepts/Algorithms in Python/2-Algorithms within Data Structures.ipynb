{
 "cells": [
  {
   "cell_type": "markdown",
   "id": "61c927d8",
   "metadata": {},
   "source": [
    "# Searching"
   ]
  },
  {
   "cell_type": "markdown",
   "id": "d4a90878",
   "metadata": {},
   "source": [
    "## Linear Search"
   ]
  },
  {
   "cell_type": "code",
   "execution_count": 1,
   "id": "37715852",
   "metadata": {},
   "outputs": [
    {
     "name": "stdout",
     "output_type": "stream",
     "text": [
      "(6, 16)\n"
     ]
    }
   ],
   "source": [
    "def linear_search(arr, target):\n",
    "    for i in range(len(arr)):\n",
    "        if arr[i] == target:\n",
    "            return i, arr[i]\n",
    "\n",
    "array = [2,5,8,7,9,10,16,20]\n",
    "target = 16\n",
    "print(linear_search(array, target))"
   ]
  },
  {
   "cell_type": "markdown",
   "id": "74be2bc2",
   "metadata": {},
   "source": [
    "## Binary Search"
   ]
  },
  {
   "cell_type": "code",
   "execution_count": 8,
   "id": "c1ef0345",
   "metadata": {},
   "outputs": [
    {
     "name": "stdout",
     "output_type": "stream",
     "text": [
      "7 is present at index 4\n"
     ]
    }
   ],
   "source": [
    "def iterative_binary_search(arr, start, end, target):\n",
    "    while start <= end:\n",
    "        mid = (start + end) // 2\n",
    "        if arr[mid] < target:\n",
    "            start = mid+1\n",
    "        elif arr[mid] > target:\n",
    "            end = mid-1\n",
    "        else:\n",
    "            return mid, arr[mid]\n",
    "    return -1\n",
    "\n",
    "array = [1,2,5,8,7,10,16,20,21]\n",
    "target = 7\n",
    "\n",
    "result, num = iterative_binary_search(array, 0, len(array)-1, target)\n",
    "if result != -1:\n",
    "    print(f'{num} is present at index {result}')\n",
    "else:\n",
    "    print('Element is not present in array')            "
   ]
  },
  {
   "cell_type": "code",
   "execution_count": 10,
   "id": "310d4765",
   "metadata": {},
   "outputs": [
    {
     "name": "stdout",
     "output_type": "stream",
     "text": [
      "7 is present at index 4\n"
     ]
    }
   ],
   "source": [
    "def recursive_binary_search(arr, start, end, target):\n",
    "    if end >= start:\n",
    "        mid = start + end-1 // 2\n",
    "        if arr[mid] < target:\n",
    "            recursive_binary_search(arr, mid+1, end, target)\n",
    "        elif arr[mid] > target:\n",
    "            return recursive_binary_search(arr, start, mid-1, target)\n",
    "        else:\n",
    "            return mid, arr[mid]\n",
    "    return -1\n",
    "\n",
    "array = [1,2,5,8,7,10,16,20,21]\n",
    "target = 7\n",
    "\n",
    "result, num = iterative_binary_search(array, 0, len(array)-1, target)\n",
    "if result != -1:\n",
    "    print(f'{num} is present at index {result}')\n",
    "else:\n",
    "    print('Element is not present in array')            "
   ]
  },
  {
   "cell_type": "markdown",
   "id": "b6abebbd",
   "metadata": {},
   "source": [
    "# Sorting"
   ]
  },
  {
   "cell_type": "markdown",
   "id": "e4235fff",
   "metadata": {},
   "source": [
    "## Bubble Sort"
   ]
  },
  {
   "cell_type": "code",
   "execution_count": 14,
   "id": "b97fd346",
   "metadata": {},
   "outputs": [
    {
     "name": "stdout",
     "output_type": "stream",
     "text": [
      "([2, 5, 7, 8, 9, 10, 16], 21)\n"
     ]
    }
   ],
   "source": [
    "def bubble_sort_optimized(arr):\n",
    "    itr = 0\n",
    "    for i in range(len(arr)):\n",
    "        for j in range(len(arr)-i-1):\n",
    "            itr += 1\n",
    "            if arr[j] > arr[j+1]:\n",
    "                arr[j], arr[j+1] = arr[j+1], arr[j]\n",
    "    return arr, itr\n",
    "\n",
    "array = [2,5,8,7,9,10,16]\n",
    "print(bubble_sort_optimized(array))"
   ]
  },
  {
   "cell_type": "code",
   "execution_count": 15,
   "id": "359c731a",
   "metadata": {},
   "outputs": [
    {
     "name": "stdout",
     "output_type": "stream",
     "text": [
      "([2, 5, 7, 8, 9, 10, 16], 42)\n"
     ]
    }
   ],
   "source": [
    "def swap(arr, i, j):\n",
    "    temp = arr[i]\n",
    "    arr[i] = arr[j]\n",
    "    arr[j] = temp\n",
    "\n",
    "def bubble_sort_unoptimized(arr):\n",
    "    itr = 0\n",
    "    for i in arr:\n",
    "        for j in range(len(arr)-1):\n",
    "            itr += 1\n",
    "            if arr[j] > arr[j+1]:\n",
    "                swap(arr, j, j+1)\n",
    "    return arr, itr\n",
    "array = [2,5,8,7,9,10,16]\n",
    "print(bubble_sort_unoptimized(array))"
   ]
  },
  {
   "cell_type": "markdown",
   "id": "52954c8a",
   "metadata": {},
   "source": [
    "## Insertion Sort"
   ]
  },
  {
   "cell_type": "code",
   "execution_count": 18,
   "id": "28ddc157",
   "metadata": {},
   "outputs": [
    {
     "name": "stdout",
     "output_type": "stream",
     "text": [
      "[1, 2, 3, 4, 5, 6]\n"
     ]
    }
   ],
   "source": [
    "def insertion_sort(arr):\n",
    "    for j in range(1, len(arr)):\n",
    "        key = arr[j]\n",
    "        i = j-1\n",
    "        while i >= 0 and arr[i] > key:\n",
    "            arr[i+1] = arr[i]\n",
    "            i -= 1\n",
    "        arr[i+1] = key\n",
    "    return arr\n",
    "\n",
    "array = [5,2,4,6,1,3]\n",
    "print(insertion_sort(array))"
   ]
  },
  {
   "cell_type": "markdown",
   "id": "3cc00762",
   "metadata": {},
   "source": [
    "# Data Structures"
   ]
  },
  {
   "cell_type": "markdown",
   "id": "1cfeeddc",
   "metadata": {},
   "source": [
    "## Single Linked List"
   ]
  },
  {
   "cell_type": "code",
   "execution_count": 28,
   "id": "ab24373d",
   "metadata": {},
   "outputs": [
    {
     "name": "stdout",
     "output_type": "stream",
     "text": [
      "Dave\n",
      "Amy\n",
      "Max\n"
     ]
    }
   ],
   "source": [
    "class Node:\n",
    "    def __init__(self, data):\n",
    "        self.data = data\n",
    "        self.next = None\n",
    "        \n",
    "class LinkedList:\n",
    "    \n",
    "    def traversal(self):\n",
    "        first = self.head\n",
    "        while first:\n",
    "            print(first.data)\n",
    "            first = first.next\n",
    "    \n",
    "    def insert_new_header(self, new_data):\n",
    "        new_node = Node(new_data)\n",
    "        new_node.next = self.head\n",
    "        self.head = new_node\n",
    "        \n",
    "    def search(self, x):\n",
    "        temp = self.head\n",
    "        while temp is not None:\n",
    "            if temp.data == x:\n",
    "                return True\n",
    "            temp = temp.next\n",
    "        else:\n",
    "            return False\n",
    "        \n",
    "    def delete_node(self, data):\n",
    "        temp = self.head\n",
    "        while temp is not None:\n",
    "            if temp.data == data:\n",
    "                break\n",
    "            prev = temp\n",
    "            temp = temp.next\n",
    "        prev.next = temp.next\n",
    "    \n",
    "    def delete_tail(self):\n",
    "        temp = self.head\n",
    "        while temp.next.next is not None:\n",
    "            temp = temp.next\n",
    "        temp.next = None\n",
    "\n",
    "family = LinkedList()\n",
    "family.head = Node('Bob')\n",
    "wife = Node('Amy')\n",
    "first_kid = Node('Max')\n",
    "second_kid = Node('Jenny')\n",
    "\n",
    "family.head.next = wife\n",
    "wife.next = first_kid\n",
    "first_kid.next = second_kid\n",
    "\n",
    "family.insert_new_header('Dave')\n",
    "family.search('Bob')\n",
    "family.delete_node('Bob')   \n",
    "family.delete_tail()\n",
    "family.traversal()"
   ]
  }
 ],
 "metadata": {
  "kernelspec": {
   "display_name": "Python 3 (ipykernel)",
   "language": "python",
   "name": "python3"
  },
  "language_info": {
   "codemirror_mode": {
    "name": "ipython",
    "version": 3
   },
   "file_extension": ".py",
   "mimetype": "text/x-python",
   "name": "python",
   "nbconvert_exporter": "python",
   "pygments_lexer": "ipython3",
   "version": "3.10.11"
  }
 },
 "nbformat": 4,
 "nbformat_minor": 5
}
