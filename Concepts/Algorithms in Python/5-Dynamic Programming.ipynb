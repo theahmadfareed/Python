{
 "cells": [
  {
   "cell_type": "markdown",
   "id": "86a7c13e",
   "metadata": {},
   "source": [
    "# Ugly Numbers"
   ]
  },
  {
   "cell_type": "code",
   "execution_count": 3,
   "id": "4c801aa3",
   "metadata": {},
   "outputs": [
    {
     "name": "stdout",
     "output_type": "stream",
     "text": [
      "15th Ugly-Number is = 24\n"
     ]
    }
   ],
   "source": [
    "def nth_ugly(num):\n",
    "    dp_ugly = [0] * num\n",
    "    dp_ugly[0] = 1\n",
    "    \n",
    "    u2 = u3 = u5 = 0\n",
    "    multiple_2 = 2\n",
    "    multiple_3 = 3\n",
    "    multiple_5 = 5\n",
    "    \n",
    "    for i in range(1, n):\n",
    "        dp_ugly[i] = min(multiple_2, multiple_3, multiple_5)\n",
    "        \n",
    "        if dp_ugly[i] == multiple_2:\n",
    "            u2 += 1\n",
    "            multiple_2 = dp_ugly[u2] * 2\n",
    "        if dp_ugly[i] == multiple_3:\n",
    "            u3 += 1\n",
    "            multiple_3 = dp_ugly[u3] * 3\n",
    "        if dp_ugly[i] == multiple_5:\n",
    "            u5 += 1\n",
    "            multiple_5 = dp_ugly[u5] * 5\n",
    "    return dp_ugly[n-1]\n",
    "\n",
    "n=15\n",
    "print(f\"{n}th Ugly-Number is =\",nth_ugly(n))            "
   ]
  },
  {
   "cell_type": "markdown",
   "id": "81e37add",
   "metadata": {},
   "source": [
    "# Traveling Salesman Problem"
   ]
  },
  {
   "cell_type": "code",
   "execution_count": 13,
   "id": "6a7ccfa3",
   "metadata": {},
   "outputs": [
    {
     "name": "stdout",
     "output_type": "stream",
     "text": [
      "20\n"
     ]
    }
   ],
   "source": [
    "from itertools import permutations\n",
    "v = 4\n",
    "\n",
    "def travel_salesman(graph, s):\n",
    "    vertex = []\n",
    "    for i in range(v):\n",
    "        if i != s:\n",
    "            vertex.append(i)\n",
    "\n",
    "    min_path = []\n",
    "    next_permutation = permutations(vertex)\n",
    "    \n",
    "    for i in next_permutation:\n",
    "        current_pathweight = 0\n",
    "        \n",
    "        k = s\n",
    "        for j in i:\n",
    "            current_pathweight += graph[k][j]\n",
    "            k = j\n",
    "            current_pathweight += graph[k][s]\n",
    "            min_path.append(current_pathweight)\n",
    "            x = sorted(min_path)\n",
    "    return x[0]\n",
    "\n",
    "graph = [[0, 10, 15, 20],\n",
    "         [10, 0, 35, 25],\n",
    "         [15, 35, 0, 30],\n",
    "         [20, 25, 30, 0]]\n",
    "s = 0\n",
    "print(travel_salesman(graph,s))"
   ]
  },
  {
   "cell_type": "code",
   "execution_count": null,
   "id": "bdf08947",
   "metadata": {},
   "outputs": [],
   "source": []
  }
 ],
 "metadata": {
  "kernelspec": {
   "display_name": "Python 3 (ipykernel)",
   "language": "python",
   "name": "python3"
  },
  "language_info": {
   "codemirror_mode": {
    "name": "ipython",
    "version": 3
   },
   "file_extension": ".py",
   "mimetype": "text/x-python",
   "name": "python",
   "nbconvert_exporter": "python",
   "pygments_lexer": "ipython3",
   "version": "3.10.11"
  }
 },
 "nbformat": 4,
 "nbformat_minor": 5
}
