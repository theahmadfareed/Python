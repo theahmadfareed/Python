{
 "cells": [
  {
   "cell_type": "code",
   "execution_count": 1,
   "id": "ebd4d560",
   "metadata": {},
   "outputs": [],
   "source": [
    "import numpy as np"
   ]
  },
  {
   "cell_type": "code",
   "execution_count": 2,
   "id": "8cf148ac",
   "metadata": {},
   "outputs": [
    {
     "data": {
      "text/plain": [
       "array([[ 0,  1,  2,  3,  4],\n",
       "       [ 5,  6,  7,  8,  9],\n",
       "       [10, 11, 12, 13, 14]])"
      ]
     },
     "execution_count": 2,
     "metadata": {},
     "output_type": "execute_result"
    }
   ],
   "source": [
    "arr = np.arange(15).reshape(3, 5)\n",
    "arr"
   ]
  },
  {
   "cell_type": "markdown",
   "id": "4e760d9b",
   "metadata": {},
   "source": [
    "#  Important Attributes of a ndarray Object are:"
   ]
  },
  {
   "cell_type": "code",
   "execution_count": 3,
   "id": "6bd92c08",
   "metadata": {
    "scrolled": true
   },
   "outputs": [
    {
     "data": {
      "text/plain": [
       "2"
      ]
     },
     "execution_count": 3,
     "metadata": {},
     "output_type": "execute_result"
    }
   ],
   "source": [
    "arr.ndim"
   ]
  },
  {
   "cell_type": "code",
   "execution_count": 4,
   "id": "bb2e10e5",
   "metadata": {},
   "outputs": [
    {
     "data": {
      "text/plain": [
       "(3, 5)"
      ]
     },
     "execution_count": 4,
     "metadata": {},
     "output_type": "execute_result"
    }
   ],
   "source": [
    "arr.shape"
   ]
  },
  {
   "cell_type": "code",
   "execution_count": 5,
   "id": "ebd7e096",
   "metadata": {},
   "outputs": [
    {
     "data": {
      "text/plain": [
       "'int32'"
      ]
     },
     "execution_count": 5,
     "metadata": {},
     "output_type": "execute_result"
    }
   ],
   "source": [
    "arr.dtype.name"
   ]
  },
  {
   "cell_type": "code",
   "execution_count": 6,
   "id": "2500b303",
   "metadata": {},
   "outputs": [
    {
     "data": {
      "text/plain": [
       "4"
      ]
     },
     "execution_count": 6,
     "metadata": {},
     "output_type": "execute_result"
    }
   ],
   "source": [
    "arr.itemsize"
   ]
  },
  {
   "cell_type": "code",
   "execution_count": 7,
   "id": "7884e7cc",
   "metadata": {},
   "outputs": [
    {
     "data": {
      "text/plain": [
       "15"
      ]
     },
     "execution_count": 7,
     "metadata": {},
     "output_type": "execute_result"
    }
   ],
   "source": [
    "arr.size"
   ]
  },
  {
   "cell_type": "markdown",
   "id": "5be5f26e",
   "metadata": {},
   "source": [
    "# Array Creation"
   ]
  },
  {
   "cell_type": "markdown",
   "id": "5e7d09b5",
   "metadata": {},
   "source": [
    "#### numpy.empty"
   ]
  },
  {
   "cell_type": "code",
   "execution_count": 50,
   "id": "45b941a6",
   "metadata": {
    "scrolled": true
   },
   "outputs": [
    {
     "data": {
      "text/plain": [
       "array([[[ 0,  1,  3],\n",
       "        [ 6,  4,  9]],\n",
       "\n",
       "       [[15, 22,  8],\n",
       "        [17, 27, 38]]])"
      ]
     },
     "execution_count": 50,
     "metadata": {},
     "output_type": "execute_result"
    }
   ],
   "source": [
    "a = np.empty((2, 2, 3),dtype=int)\n",
    "a1 = np.empty_like(a)\n",
    "a1"
   ]
  },
  {
   "cell_type": "markdown",
   "id": "24a5916a",
   "metadata": {},
   "source": [
    "#### numpy.eye"
   ]
  },
  {
   "cell_type": "code",
   "execution_count": 9,
   "id": "90713379",
   "metadata": {
    "scrolled": true
   },
   "outputs": [
    {
     "data": {
      "text/plain": [
       "array([[0, 1, 0, 0],\n",
       "       [0, 0, 1, 0],\n",
       "       [0, 0, 0, 1]])"
      ]
     },
     "execution_count": 9,
     "metadata": {},
     "output_type": "execute_result"
    }
   ],
   "source": [
    "b = np.eye(2)\n",
    "b1 = np.eye(3, dtype=int)\n",
    "b2 = np.eye(3, 4, k=1, dtype=int)\n",
    "b2"
   ]
  },
  {
   "cell_type": "markdown",
   "id": "b695a201",
   "metadata": {},
   "source": [
    "#### numpy.identity"
   ]
  },
  {
   "cell_type": "code",
   "execution_count": 10,
   "id": "ca5bf3ed",
   "metadata": {},
   "outputs": [
    {
     "data": {
      "text/plain": [
       "array([[1, 0, 0],\n",
       "       [0, 1, 0],\n",
       "       [0, 0, 1]])"
      ]
     },
     "execution_count": 10,
     "metadata": {},
     "output_type": "execute_result"
    }
   ],
   "source": [
    "c = np.identity(3, dtype=int)\n",
    "c"
   ]
  },
  {
   "cell_type": "markdown",
   "id": "92675a31",
   "metadata": {},
   "source": [
    "#### numpy.ones"
   ]
  },
  {
   "cell_type": "code",
   "execution_count": 11,
   "id": "9a200820",
   "metadata": {},
   "outputs": [
    {
     "data": {
      "text/plain": [
       "array([[[1, 1],\n",
       "        [1, 1]],\n",
       "\n",
       "       [[1, 1],\n",
       "        [1, 1]]], dtype=int16)"
      ]
     },
     "execution_count": 11,
     "metadata": {},
     "output_type": "execute_result"
    }
   ],
   "source": [
    "e = np.ones((2, 2, 2), dtype=np.int16)\n",
    "e1 = np.ones_like(e)\n",
    "e1"
   ]
  },
  {
   "cell_type": "markdown",
   "id": "15ab6388",
   "metadata": {},
   "source": [
    "#### numpy.zeros"
   ]
  },
  {
   "cell_type": "code",
   "execution_count": 12,
   "id": "4e4494b1",
   "metadata": {},
   "outputs": [
    {
     "data": {
      "text/plain": [
       "array([[[0, 0],\n",
       "        [0, 0]],\n",
       "\n",
       "       [[0, 0],\n",
       "        [0, 0]]])"
      ]
     },
     "execution_count": 12,
     "metadata": {},
     "output_type": "execute_result"
    }
   ],
   "source": [
    "d = np.zeros((2, 2, 2))\n",
    "d1 = np.zeros_like(d, dtype=int)\n",
    "d1"
   ]
  },
  {
   "cell_type": "markdown",
   "id": "94db924b",
   "metadata": {},
   "source": [
    "#### numpy.full"
   ]
  },
  {
   "cell_type": "code",
   "execution_count": 13,
   "id": "8f66ce13",
   "metadata": {},
   "outputs": [
    {
     "data": {
      "text/plain": [
       "array([[1, 1],\n",
       "       [1, 1]])"
      ]
     },
     "execution_count": 13,
     "metadata": {},
     "output_type": "execute_result"
    }
   ],
   "source": [
    "g = np.full((2, 2), np.inf)\n",
    "g1 = np.full((2, 2), 10)\n",
    "g2 = np.full((2, 2), [1, 2])\n",
    "g3 = np.full_like(g, 1, dtype=int)\n",
    "g3"
   ]
  },
  {
   "cell_type": "markdown",
   "id": "6f3c06a8",
   "metadata": {},
   "source": [
    "#### numpy.array"
   ]
  },
  {
   "cell_type": "code",
   "execution_count": 14,
   "id": "88147a00",
   "metadata": {},
   "outputs": [],
   "source": [
    "h = np.array([2, 3, 4])\n",
    "h1 = np.array([1.2, 3.5, 5.1])\n",
    "\n",
    "# Type provided:\n",
    "h2 = np.array([[1, 2], [3, 4]], dtype=complex)\n",
    "\n",
    "# Dimension provided:\n",
    "h3 = np.array([1, 2, 3], ndmin=2)\n",
    "\n",
    "# Data-type consisting of more than one element:\n",
    "h4 = np.array([(1,2),(3,4)],dtype=[('a','<i4'),('b','<i4')])\n",
    "# h4['a']\n",
    "\n",
    "# Creating an array from sub-classes:\n",
    "h5 = np.array(np.mat('1 2; 3 4'))\n",
    "h6 = np.array(np.mat('1 2; 3 4'), subok=True)"
   ]
  },
  {
   "cell_type": "markdown",
   "id": "3cd7e49e",
   "metadata": {},
   "source": [
    "#### numpy.asarray"
   ]
  },
  {
   "cell_type": "code",
   "execution_count": 15,
   "id": "8c8f09e8",
   "metadata": {},
   "outputs": [
    {
     "data": {
      "text/plain": [
       "True"
      ]
     },
     "execution_count": 15,
     "metadata": {},
     "output_type": "execute_result"
    }
   ],
   "source": [
    "i = (1,2)\n",
    "i1 = np.asarray(i)\n",
    "np.asarray(i1) is not i"
   ]
  },
  {
   "cell_type": "markdown",
   "id": "0aa7fcbd",
   "metadata": {},
   "source": [
    "#### numpy.asanyarray"
   ]
  },
  {
   "cell_type": "code",
   "execution_count": 16,
   "id": "d0800eff",
   "metadata": {},
   "outputs": [
    {
     "data": {
      "text/plain": [
       "True"
      ]
     },
     "execution_count": 16,
     "metadata": {},
     "output_type": "execute_result"
    }
   ],
   "source": [
    "j = (1,2)\n",
    "j1 = np.asanyarray(j)\n",
    "np.asanyarray(j1) is not j"
   ]
  },
  {
   "cell_type": "markdown",
   "id": "f9f26d0e",
   "metadata": {},
   "source": [
    "#### numpy.ascontiguousarray"
   ]
  },
  {
   "cell_type": "code",
   "execution_count": 17,
   "id": "fe9edb9d",
   "metadata": {},
   "outputs": [
    {
     "data": {
      "text/plain": [
       "True"
      ]
     },
     "execution_count": 17,
     "metadata": {},
     "output_type": "execute_result"
    }
   ],
   "source": [
    "k = np.ones((2, 3), order='C')\n",
    "k.flags['C_CONTIGUOUS']\n",
    "k1 = np.ascontiguousarray(k)\n",
    "k1 is k"
   ]
  },
  {
   "cell_type": "markdown",
   "id": "5b0f47fb",
   "metadata": {},
   "source": [
    "#### numpy.asmatrix"
   ]
  },
  {
   "cell_type": "code",
   "execution_count": 53,
   "id": "18bfe13d",
   "metadata": {},
   "outputs": [
    {
     "data": {
      "text/plain": [
       "matrix([[5, 2],\n",
       "        [3, 4]])"
      ]
     },
     "execution_count": 53,
     "metadata": {},
     "output_type": "execute_result"
    }
   ],
   "source": [
    "l = np.array([[1, 2], [3, 4]])\n",
    "l[0,0] = 5\n",
    "np.asmatrix(l)"
   ]
  },
  {
   "cell_type": "markdown",
   "id": "a3308431",
   "metadata": {},
   "source": [
    "#### numpy.copy"
   ]
  },
  {
   "cell_type": "code",
   "execution_count": 19,
   "id": "c5214a67",
   "metadata": {
    "scrolled": true
   },
   "outputs": [
    {
     "name": "stdout",
     "output_type": "stream",
     "text": [
      "True\n",
      "False\n"
     ]
    }
   ],
   "source": [
    "m = np.array([1, 2, 3])\n",
    "m1 = m\n",
    "m2 = np.copy(m)\n",
    "m[0] = 10\n",
    "print(m[0] == m1[0])\n",
    "print(m[0] == m2[0])"
   ]
  },
  {
   "cell_type": "code",
   "execution_count": 20,
   "id": "5e954b34",
   "metadata": {},
   "outputs": [
    {
     "name": "stdout",
     "output_type": "stream",
     "text": [
      "True\n"
     ]
    },
    {
     "data": {
      "text/plain": [
       "array([3, 2, 3])"
      ]
     },
     "execution_count": 20,
     "metadata": {},
     "output_type": "execute_result"
    }
   ],
   "source": [
    "#\n",
    "n = np.array([1, 2, 3])\n",
    "n.flags[\"WRITEABLE\"] = False\n",
    "n1 = np.copy(n)\n",
    "print(n1.flags[\"WRITEABLE\"])\n",
    "n1[0] = 3\n",
    "n1"
   ]
  },
  {
   "cell_type": "code",
   "execution_count": 21,
   "id": "e0485c3e",
   "metadata": {},
   "outputs": [
    {
     "name": "stdout",
     "output_type": "stream",
     "text": [
      "[1 'm' list([10, 3, 4])]\n"
     ]
    }
   ],
   "source": [
    "#\n",
    "n2 = np.array([1, 'm', [2, 3, 4]], dtype=object)\n",
    "n3 = np.copy(n2)\n",
    "n3[2][0] = 10\n",
    "print(n2)"
   ]
  },
  {
   "cell_type": "code",
   "execution_count": 22,
   "id": "0d46dda8",
   "metadata": {},
   "outputs": [
    {
     "name": "stdout",
     "output_type": "stream",
     "text": [
      "[1 'm' list([10, 3, 4])]\n",
      "[1 'm' list([2, 3, 4])]\n"
     ]
    }
   ],
   "source": [
    "# To ensure all elements within an object array are copied, use copy.deepcopy:\n",
    "import copy\n",
    "n4 = np.array([1, 'm', [2, 3, 4]], dtype=object)\n",
    "n5 = copy.deepcopy(n4)\n",
    "n5[2][0] = 10\n",
    "print(n5)\n",
    "print(n4)"
   ]
  },
  {
   "cell_type": "markdown",
   "id": "d1d901bd",
   "metadata": {},
   "source": [
    "#### numpy.fromstring"
   ]
  },
  {
   "cell_type": "code",
   "execution_count": 23,
   "id": "0614efec",
   "metadata": {},
   "outputs": [
    {
     "name": "stdout",
     "output_type": "stream",
     "text": [
      "[1 2]\n",
      "[1 2]\n"
     ]
    }
   ],
   "source": [
    "print(np.fromstring('1 2', dtype=int, sep=' '))\n",
    "print(np.fromstring('1, 2', dtype=int, sep=','))"
   ]
  },
  {
   "cell_type": "markdown",
   "id": "af5c70ae",
   "metadata": {},
   "source": [
    "#### numpy.fromiter"
   ]
  },
  {
   "cell_type": "code",
   "execution_count": 24,
   "id": "be231b7d",
   "metadata": {},
   "outputs": [
    {
     "name": "stdout",
     "output_type": "stream",
     "text": [
      "[ 0.  1.  4.  9. 16.]\n",
      "[[1 2]\n",
      " [2 3]\n",
      " [3 4]\n",
      " [4 5]\n",
      " [5 6]]\n"
     ]
    }
   ],
   "source": [
    "iterable = (x*x for x in range(5))\n",
    "print(np.fromiter(iterable, float))\n",
    "#\n",
    "iterable1 = ((x+1, x+2) for x in range(5))\n",
    "print(np.fromiter(iterable1, dtype=np.dtype((int, 2))))"
   ]
  },
  {
   "cell_type": "markdown",
   "id": "ddae4d2d",
   "metadata": {},
   "source": [
    "#### numpy.fromfunction"
   ]
  },
  {
   "cell_type": "code",
   "execution_count": 25,
   "id": "efe00f5a",
   "metadata": {},
   "outputs": [
    {
     "name": "stdout",
     "output_type": "stream",
     "text": [
      "[[0 1 2]\n",
      " [1 2 3]\n",
      " [2 3 4]]\n"
     ]
    }
   ],
   "source": [
    "print(np.fromfunction(lambda i, j: i + j, (3, 3), dtype=int))"
   ]
  },
  {
   "cell_type": "markdown",
   "id": "5b46b5fb",
   "metadata": {},
   "source": [
    "#### numpy.arange"
   ]
  },
  {
   "cell_type": "code",
   "execution_count": 26,
   "id": "fecae933",
   "metadata": {},
   "outputs": [],
   "source": [
    "o = np.arange(10, 30, 5)\n",
    "o1 = np.arange(0, 2, 0.3)"
   ]
  },
  {
   "cell_type": "markdown",
   "id": "8d7ccbcd",
   "metadata": {},
   "source": [
    "#### numpy.linespace"
   ]
  },
  {
   "cell_type": "code",
   "execution_count": 27,
   "id": "a11f96a6",
   "metadata": {},
   "outputs": [],
   "source": [
    "from numpy import pi\n",
    "p = np.linspace(0, 2, 9)\n",
    "p1 = np.linspace(0, 2 * pi, 100)\n",
    "p2 = np.sin(p1)"
   ]
  },
  {
   "cell_type": "markdown",
   "id": "2af0a1a9",
   "metadata": {},
   "source": [
    "#### numpy.logspace"
   ]
  },
  {
   "cell_type": "code",
   "execution_count": 28,
   "id": "3b34a7de",
   "metadata": {},
   "outputs": [
    {
     "name": "stdout",
     "output_type": "stream",
     "text": [
      "[100.         177.827941   316.22776602 562.34132519]\n",
      "[4.         5.0396842  6.34960421 8.        ]\n"
     ]
    },
    {
     "data": {
      "image/png": "[encoded data removed]",
      "text/plain": [
       "<Figure size 640x480 with 1 Axes>"
      ]
     },
     "metadata": {},
     "output_type": "display_data"
    }
   ],
   "source": [
    "print(np.logspace(2.0, 3.0, num=4, endpoint=False))\n",
    "print(np.logspace(2.0, 3.0, num=4, base=2.0))\n",
    "import matplotlib.pyplot as plt\n",
    "N = 10\n",
    "x1 = np.logspace(0.1, 1, N, endpoint=True)\n",
    "x2 = np.logspace(0.1, 1, N, endpoint=False)\n",
    "y = np.zeros(N)\n",
    "plt.plot(x1, y, 'o')\n",
    "plt.plot(x2, y + 0.5, 'o')\n",
    "plt.ylim([-0.5, 1])\n",
    "plt.show()"
   ]
  },
  {
   "cell_type": "markdown",
   "id": "f8e99053",
   "metadata": {},
   "source": [
    "#### numpy.geospace"
   ]
  },
  {
   "cell_type": "code",
   "execution_count": 29,
   "id": "5255cd12",
   "metadata": {},
   "outputs": [
    {
     "name": "stdout",
     "output_type": "stream",
     "text": [
      "[  1.           5.62341325  31.6227766  177.827941  ]\n",
      "[  1   2   4   7  16  32  63 127 256]\n",
      "[  1   2   4   8  16  32  64 128 256]\n",
      "[1000.  100.   10.    1.]\n",
      "[-1000.  -100.   -10.    -1.]\n",
      "[0.   +1.j 0.  +10.j 0. +100.j 0.+1000.j]\n",
      "[-1.000000e+00+0.j  6.123234e-17+1.j  1.000000e+00+0.j]\n"
     ]
    },
    {
     "data": {
      "image/png": "[encoded data removed]",
      "text/plain": [
       "<Figure size 640x480 with 1 Axes>"
      ]
     },
     "metadata": {},
     "output_type": "display_data"
    }
   ],
   "source": [
    "print(np.geomspace(1, 1000, num=4, endpoint=False))\n",
    "print(np.geomspace(1, 256, num=9, dtype=int))\n",
    "print(np.around(np.geomspace(1, 256, num=9)).astype(int))\n",
    "print(np.geomspace(1000, 1, num=4))\n",
    "print(np.geomspace(-1000, -1, num=4))\n",
    "print(np.geomspace(1j, 1000j, num=4))\n",
    "print(np.geomspace(-1+0j, 1+0j, num=3))\n",
    "import matplotlib.pyplot as plt\n",
    "N = 10\n",
    "y = np.zeros(N)\n",
    "plt.semilogx(np.geomspace(1, 1000, N, endpoint=True), y + 1, 'o')\n",
    "plt.semilogx(np.geomspace(1, 1000, N, endpoint=False), y + 2, 'o')\n",
    "plt.axis([0.5, 2000, 0, 3])\n",
    "plt.grid(True, color='0.7', linestyle='-', which='both', axis='both')\n",
    "plt.show()"
   ]
  },
  {
   "cell_type": "markdown",
   "id": "c3f56238",
   "metadata": {},
   "source": [
    "#### numpy.mgrid"
   ]
  },
  {
   "cell_type": "code",
   "execution_count": 30,
   "id": "f03dccd6",
   "metadata": {},
   "outputs": [
    {
     "name": "stdout",
     "output_type": "stream",
     "text": [
      "[[[0 0 0 0 0]\n",
      "  [1 1 1 1 1]\n",
      "  [2 2 2 2 2]\n",
      "  [3 3 3 3 3]\n",
      "  [4 4 4 4 4]]\n",
      "\n",
      " [[0 1 2 3 4]\n",
      "  [0 1 2 3 4]\n",
      "  [0 1 2 3 4]\n",
      "  [0 1 2 3 4]\n",
      "  [0 1 2 3 4]]]\n",
      "[-1.  -0.5  0.   0.5  1. ]\n"
     ]
    }
   ],
   "source": [
    "print(np.mgrid[0:5, 0:5])\n",
    "print(np.mgrid[-1:1:5j])"
   ]
  },
  {
   "cell_type": "markdown",
   "id": "b2d3daf8",
   "metadata": {},
   "source": [
    "#### numpy.ogrid"
   ]
  },
  {
   "cell_type": "code",
   "execution_count": 54,
   "id": "8317bb9b",
   "metadata": {},
   "outputs": [
    {
     "name": "stdout",
     "output_type": "stream",
     "text": [
      "[array([[0],\n",
      "       [1],\n",
      "       [2],\n",
      "       [3],\n",
      "       [4]]), array([[0, 1, 2, 3, 4]])]\n",
      "[-1.  -0.5  0.   0.5  1. ]\n"
     ]
    }
   ],
   "source": [
    "from numpy import ogrid\n",
    "print(ogrid[0:5,0:5])\n",
    "print(ogrid[-1:1:5j])"
   ]
  },
  {
   "cell_type": "markdown",
   "id": "774f76cf",
   "metadata": {},
   "source": [
    "#### numpy.mat & numpy.bmat"
   ]
  },
  {
   "cell_type": "code",
   "execution_count": 55,
   "id": "0a4de5b9",
   "metadata": {},
   "outputs": [
    {
     "name": "stdout",
     "output_type": "stream",
     "text": [
      "[[1 1 2 2]\n",
      " [1 1 2 2]\n",
      " [3 4 7 8]\n",
      " [5 6 9 0]]\n"
     ]
    }
   ],
   "source": [
    "A = np.mat('1 1; 1 1')\n",
    "B = np.mat('2 2; 2 2')\n",
    "C = np.mat('3 4; 5 6')\n",
    "D = np.mat('7 8; 9 0')\n",
    "print(np.bmat([[A, B], [C, D]]))\n",
    "# print(np.bmat('A,B; C,D'))"
   ]
  },
  {
   "cell_type": "markdown",
   "id": "62693a87",
   "metadata": {},
   "source": [
    "# Basic Operations\n",
    "#### Arithmetic operators on arrays apply elementwise. A new array is created and filled with the result."
   ]
  },
  {
   "cell_type": "code",
   "execution_count": 33,
   "id": "b5f1c9e1",
   "metadata": {},
   "outputs": [
    {
     "name": "stdout",
     "output_type": "stream",
     "text": [
      "[20 29 38 47]\n",
      "[0 1 4 9]\n",
      "[ 9.12945251 -9.88031624  7.4511316  -2.62374854]\n",
      "[ True  True False False]\n"
     ]
    }
   ],
   "source": [
    "a = np.array([20, 30, 40, 50])\n",
    "b = np.arange(4)\n",
    "c = a - b\n",
    "print(c)\n",
    "print(b**2)\n",
    "print(10 * np.sin(a))\n",
    "print(a < 35)"
   ]
  },
  {
   "cell_type": "code",
   "execution_count": 34,
   "id": "7501f910",
   "metadata": {},
   "outputs": [
    {
     "name": "stdout",
     "output_type": "stream",
     "text": [
      "[[2 0]\n",
      " [0 4]]\n",
      "[[5 4]\n",
      " [3 4]]\n",
      "[[5 4]\n",
      " [3 4]]\n"
     ]
    }
   ],
   "source": [
    "A = np.array([[1, 1],\n",
    "              [0, 1]])\n",
    "B = np.array([[2, 0],\n",
    "              [3, 4]])\n",
    "# elementwise product\n",
    "print(A * B)\n",
    "# matrix product\n",
    "print(A @ B)\n",
    "# another matrix product\n",
    "print(A.dot(B))"
   ]
  },
  {
   "cell_type": "code",
   "execution_count": 35,
   "id": "35894c0a",
   "metadata": {},
   "outputs": [
    {
     "name": "stdout",
     "output_type": "stream",
     "text": [
      "[[3 3 3]\n",
      " [3 3 3]]\n",
      "[[3.51182162 3.9504637  3.14415961]\n",
      " [3.94864945 3.31183145 3.42332645]]\n"
     ]
    }
   ],
   "source": [
    "rg = np.random.default_rng(1)  # create instance of default random number generator\n",
    "a = np.ones((2, 3), dtype=int)\n",
    "b = rg.random((2, 3))\n",
    "a *= 3\n",
    "print(a)\n",
    "b += a\n",
    "print(b)"
   ]
  },
  {
   "cell_type": "markdown",
   "id": "c8994a54",
   "metadata": {},
   "source": [
    "#### When operating with arrays of different types, the type of the resulting array corresponds to the more general or precise one (a behavior known as upcasting)."
   ]
  },
  {
   "cell_type": "code",
   "execution_count": 36,
   "id": "57e5f3cc",
   "metadata": {
    "scrolled": true
   },
   "outputs": [
    {
     "name": "stdout",
     "output_type": "stream",
     "text": [
      "[0.         1.57079633 3.14159265]\n",
      "float64\n"
     ]
    }
   ],
   "source": [
    "a = np.ones(3, dtype=np.int32)\n",
    "b = np.linspace(0, pi, 3)\n",
    "print(b)\n",
    "print(b.dtype.name)"
   ]
  },
  {
   "cell_type": "code",
   "execution_count": 37,
   "id": "1ce9be96",
   "metadata": {},
   "outputs": [
    {
     "name": "stdout",
     "output_type": "stream",
     "text": [
      "[1.         2.57079633 4.14159265]\n",
      "float64\n"
     ]
    }
   ],
   "source": [
    "c = a + b\n",
    "print(c)\n",
    "print(c.dtype.name)"
   ]
  },
  {
   "cell_type": "code",
   "execution_count": 38,
   "id": "6e639820",
   "metadata": {},
   "outputs": [
    {
     "name": "stdout",
     "output_type": "stream",
     "text": [
      "[ 0.54030231+0.84147098j -0.84147098+0.54030231j -0.54030231-0.84147098j]\n",
      "complex128\n"
     ]
    }
   ],
   "source": [
    "d = np.exp(c * 1j)\n",
    "print(d)\n",
    "print(d.dtype.name)"
   ]
  },
  {
   "cell_type": "markdown",
   "id": "9242a84e",
   "metadata": {},
   "source": [
    "#### Many unary operations, such as computing the sum of all the elements in the array, are implemented as methods of the ndarray class."
   ]
  },
  {
   "cell_type": "code",
   "execution_count": 39,
   "id": "a79bb389",
   "metadata": {},
   "outputs": [
    {
     "name": "stdout",
     "output_type": "stream",
     "text": [
      "3.1057109529998157\n",
      "0.027559113243068367\n",
      "0.8277025938204418\n"
     ]
    }
   ],
   "source": [
    "a = rg.random((2, 3))\n",
    "print(a.sum())\n",
    "print(a.min())\n",
    "print(a.max())"
   ]
  },
  {
   "cell_type": "markdown",
   "id": "67a92840",
   "metadata": {},
   "source": [
    "#### By default, these operations apply to the array as though it were a list of numbers, regardless of its shape. However, by specifying the axis parameter you can apply an operation along the specified axis of an array:"
   ]
  },
  {
   "cell_type": "code",
   "execution_count": 40,
   "id": "463eca36",
   "metadata": {},
   "outputs": [
    {
     "name": "stdout",
     "output_type": "stream",
     "text": [
      "[12 15 18 21]\n",
      "[0 4 8]\n",
      "[[ 0  1  3  6]\n",
      " [ 4  9 15 22]\n",
      " [ 8 17 27 38]]\n"
     ]
    }
   ],
   "source": [
    "b = np.arange(12).reshape(3, 4)\n",
    "print(b.sum(axis=0))     # sum of each column\n",
    "print(b.min(axis=1))     # min of each rowprint()\n",
    "print(b.cumsum(axis=1))  # cumulative sum along each row"
   ]
  },
  {
   "cell_type": "markdown",
   "id": "fd7dda07",
   "metadata": {},
   "source": [
    "# Universal Functions\n",
    "#### NumPy provides familiar mathematical functions such as sin, cos, and exp. In NumPy, these are called “universal functions” (ufunc). Within NumPy, these functions operate elementwise on an array, producing an array as output."
   ]
  },
  {
   "cell_type": "code",
   "execution_count": 41,
   "id": "6694a4d0",
   "metadata": {},
   "outputs": [
    {
     "name": "stdout",
     "output_type": "stream",
     "text": [
      "[1.         2.71828183 7.3890561 ]\n",
      "[0.         1.         1.41421356]\n",
      "[2. 0. 6.]\n"
     ]
    }
   ],
   "source": [
    "B = np.arange(3)\n",
    "print(np.exp(B))\n",
    "print(np.sqrt(B))\n",
    "C = np.array([2., -1., 4.])\n",
    "print(np.add(B, C))"
   ]
  },
  {
   "cell_type": "markdown",
   "id": "79442a24",
   "metadata": {},
   "source": [
    "#### np.all"
   ]
  },
  {
   "cell_type": "code",
   "execution_count": 42,
   "id": "35a01c44",
   "metadata": {},
   "outputs": [
    {
     "name": "stdout",
     "output_type": "stream",
     "text": [
      "False\n",
      "[ True False]\n",
      "True\n",
      "True\n",
      "True\n"
     ]
    },
    {
     "data": {
      "text/plain": [
       "(2006175857712, 2006175857712, array(True))"
      ]
     },
     "execution_count": 42,
     "metadata": {},
     "output_type": "execute_result"
    }
   ],
   "source": [
    "print(np.all([[True,False],[True,True]]))\n",
    "print(np.all([[True,False],[True,True]], axis=0))\n",
    "print(np.all([-1, 4, 5]))\n",
    "print(np.all([1.0, np.nan]))\n",
    "print(np.all([[True, True], [False, True]], where=[[True], [False]]))\n",
    "o=np.array(False)\n",
    "z=np.all([-1, 4, 5], out=o)\n",
    "id(z), id(o), z"
   ]
  },
  {
   "cell_type": "markdown",
   "id": "222c6cc6",
   "metadata": {},
   "source": [
    "#### np.any"
   ]
  },
  {
   "cell_type": "code",
   "execution_count": 43,
   "id": "eccea866",
   "metadata": {},
   "outputs": [
    {
     "name": "stdout",
     "output_type": "stream",
     "text": [
      "True\n",
      "[ True False]\n",
      "True\n",
      "True\n",
      "False\n",
      "True True\n",
      "True\n"
     ]
    },
    {
     "data": {
      "text/plain": [
       "(2006176023824, 2006176023824)"
      ]
     },
     "execution_count": 43,
     "metadata": {},
     "output_type": "execute_result"
    }
   ],
   "source": [
    "print(np.any([[True, False], [True, True]]))\n",
    "print(np.any([[True, False], [False, False]], axis=0))\n",
    "print(np.any([-1, 0, 5]))\n",
    "print(np.any(np.nan))\n",
    "print(np.any([[True, False], [False, False]], where=[[False], [True]]))\n",
    "o=np.array(False)\n",
    "z=np.any([-1, 4, 5], out=o)\n",
    "print(z, o)\n",
    "print(z is o)\n",
    "id(z), id(o) # identity of z and o              "
   ]
  },
  {
   "cell_type": "markdown",
   "id": "a62fecf7",
   "metadata": {},
   "source": [
    "#### np.apply_along_axis"
   ]
  },
  {
   "cell_type": "code",
   "execution_count": 44,
   "id": "86b068ad",
   "metadata": {},
   "outputs": [
    {
     "name": "stdout",
     "output_type": "stream",
     "text": [
      "[4. 5. 6.]\n",
      "[2. 5. 8.]\n",
      "[[1 7 8]\n",
      " [3 4 9]\n",
      " [2 5 6]]\n",
      "[[[1 0 0]\n",
      "  [0 2 0]\n",
      "  [0 0 3]]\n",
      "\n",
      " [[4 0 0]\n",
      "  [0 5 0]\n",
      "  [0 0 6]]\n",
      "\n",
      " [[7 0 0]\n",
      "  [0 8 0]\n",
      "  [0 0 9]]]\n"
     ]
    }
   ],
   "source": [
    "def my_func(a):\n",
    "    \"\"\"Average first and last element of a 1-D array\"\"\"\n",
    "    return (a[0] + a[-1]) * 0.5\n",
    "b = np.array([[1,2,3], [4,5,6], [7,8,9]])\n",
    "print(np.apply_along_axis(my_func, 0, b))\n",
    "print(np.apply_along_axis(my_func, 1, b))\n",
    "#\n",
    "b = np.array([[8,1,7], [4,3,9], [5,2,6]])\n",
    "print(np.apply_along_axis(sorted, 1, b))\n",
    "#\n",
    "b = np.array([[1,2,3], [4,5,6], [7,8,9]])\n",
    "print(np.apply_along_axis(np.diag, -1, b))"
   ]
  },
  {
   "cell_type": "markdown",
   "id": "bc8bbe54",
   "metadata": {},
   "source": [
    "#### np.apply_over_axes"
   ]
  },
  {
   "cell_type": "code",
   "execution_count": 45,
   "id": "cbb29a9a",
   "metadata": {},
   "outputs": [
    {
     "name": "stdout",
     "output_type": "stream",
     "text": [
      "[[[ 0  1  2  3]\n",
      "  [ 4  5  6  7]\n",
      "  [ 8  9 10 11]]\n",
      "\n",
      " [[12 13 14 15]\n",
      "  [16 17 18 19]\n",
      "  [20 21 22 23]]]\n",
      "[[[ 60]\n",
      "  [ 92]\n",
      "  [124]]]\n",
      "[[[ 60]\n",
      "  [ 92]\n",
      "  [124]]]\n"
     ]
    }
   ],
   "source": [
    "a = np.arange(24).reshape(2,3,4)\n",
    "print(a)\n",
    "print(np.apply_over_axes(np.sum, a, [0,2]))\n",
    "print(np.sum(a, axis=(0,2), keepdims=True))"
   ]
  },
  {
   "cell_type": "markdown",
   "id": "d6bcdc9c",
   "metadata": {},
   "source": [
    "#### np.argmax"
   ]
  },
  {
   "cell_type": "code",
   "execution_count": 46,
   "id": "08325106",
   "metadata": {},
   "outputs": [
    {
     "name": "stdout",
     "output_type": "stream",
     "text": [
      "[[10 11 12]\n",
      " [13 14 15]]\n",
      "5\n",
      "[1 1 1]\n",
      "[2 2]\n",
      "(1, 2)\n",
      "15\n",
      "[0 5 2 3 4 5]\n",
      "1\n"
     ]
    }
   ],
   "source": [
    "a = np.arange(6).reshape(2,3) + 10\n",
    "print(a)\n",
    "print(np.argmax(a))\n",
    "print(np.argmax(a, axis=0))\n",
    "print(np.argmax(a, axis=1))\n",
    "ind = np.unravel_index(np.argmax(a, axis=None), a.shape)\n",
    "print(ind)\n",
    "print(a[ind])\n",
    "b = np.arange(6)\n",
    "b[1] = 5\n",
    "print(b)\n",
    "print(np.argmax(b))  # Only the first occurrence is returned."
   ]
  },
  {
   "cell_type": "markdown",
   "id": "04843a60",
   "metadata": {},
   "source": [
    "#### np.argmin"
   ]
  },
  {
   "cell_type": "code",
   "execution_count": 47,
   "id": "c410c9b3",
   "metadata": {},
   "outputs": [
    {
     "name": "stdout",
     "output_type": "stream",
     "text": [
      "[[10 11 12]\n",
      " [13 14 15]]\n",
      "0\n",
      "[0 0 0]\n",
      "[0 0]\n",
      "(0, 0)\n",
      "10\n",
      "[10 11 12 13 10 15]\n",
      "0\n"
     ]
    }
   ],
   "source": [
    "a = np.arange(6).reshape(2,3) + 10\n",
    "print(a)\n",
    "print(np.argmin(a))\n",
    "print(np.argmin(a, axis=0))\n",
    "print(np.argmin(a, axis=1))\n",
    "ind = np.unravel_index(np.argmin(a, axis=None), a.shape)\n",
    "print(ind)\n",
    "print(a[ind])\n",
    "b = np.arange(6)+10\n",
    "b[4] = 10\n",
    "print(b)\n",
    "print(np.argmin(b))  # Only the first occurrence is returned."
   ]
  },
  {
   "cell_type": "code",
   "execution_count": null,
   "id": "5ce5bd9f",
   "metadata": {},
   "outputs": [],
   "source": []
  }
 ],
 "metadata": {
  "kernelspec": {
   "display_name": "Python 3 (ipykernel)",
   "language": "python",
   "name": "python3"
  },
  "language_info": {
   "codemirror_mode": {
    "name": "ipython",
    "version": 3
   },
   "file_extension": ".py",
   "mimetype": "text/x-python",
   "name": "python",
   "nbconvert_exporter": "python",
   "pygments_lexer": "ipython3",
   "version": "3.10.9"
  }
 },
 "nbformat": 4,
 "nbformat_minor": 5
}
