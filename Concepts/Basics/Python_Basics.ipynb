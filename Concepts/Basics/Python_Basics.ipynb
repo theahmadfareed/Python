{
 "cells": [
  {
   "cell_type": "code",
   "execution_count": 1,
   "id": "43a59259",
   "metadata": {},
   "outputs": [
    {
     "name": "stdout",
     "output_type": "stream",
     "text": [
      "3.10.9\n"
     ]
    }
   ],
   "source": [
    "from platform import python_version\n",
    "print(python_version())"
   ]
  },
  {
   "attachments": {},
   "cell_type": "markdown",
   "id": "ed656e58",
   "metadata": {
    "tags": []
   },
   "source": [
    "## Data Types\n",
    "##### Integer, Float, Complex, String, Boolean, List, Tuple, Range, Set, Dictionary, None"
   ]
  },
  {
   "cell_type": "code",
   "execution_count": null,
   "id": "2adb6124",
   "metadata": {},
   "outputs": [],
   "source": [
    "# Numeric Types\n",
    "a = 20\n",
    "b = 20.5\n",
    "c = 3+20j\n",
    "###########################################################################################################################\n",
    "# String Type\n",
    "str = \"Ali\"\n",
    "str1 = 'Ali'\n",
    "str2 = \"Hello 'Ali'\"\n",
    "str3 = 'Hello \"Ali\"'\n",
    "str4 = 'This is a multi' \\\n",
    "  ' \"line string example\"'\n",
    "###########################################################################################################################\n",
    "# Boolean Type\n",
    "d = True\n",
    "###########################################################################################################################\n",
    "# Sequence Types\n",
    "e = \"Hello World\"\n",
    "f = [\"apple\", \"banana\", \"cherry\"]\n",
    "g = (\"apple\", \"banana\", \"cherry\")\n",
    "h = range(5)\n",
    "###########################################################################################################################\n",
    "# Set Type\n",
    "i= {\"apple\", \"banana\", \"cherry\"}\n",
    "###########################################################################################################################\n",
    "# Dictionary Type\n",
    "j = {\"name\" : \"Ali\", \"age\" : 28}\n",
    "###########################################################################################################################\n",
    "# None Type\n",
    "k = None\n",
    "\n",
    "print(type(k))"
   ]
  },
  {
   "attachments": {},
   "cell_type": "markdown",
   "id": "369be180",
   "metadata": {},
   "source": [
    "## String Concatination, Indexing, Methods"
   ]
  },
  {
   "cell_type": "code",
   "execution_count": 9,
   "id": "b4379778",
   "metadata": {},
   "outputs": [
    {
     "name": "stdout",
     "output_type": "stream",
     "text": [
      "Hello There!\n",
      "H\n",
      "5\n"
     ]
    }
   ],
   "source": [
    "str5 = \"Hello\"\n",
    "str6 = \" There!\"\n",
    "print(str5 + str6)\n",
    "print(str5[0])\n",
    "print(len(str5))"
   ]
  },
  {
   "attachments": {},
   "cell_type": "markdown",
   "id": "1b7a0ec5",
   "metadata": {
    "jp-MarkdownHeadingCollapsed": true,
    "tags": []
   },
   "source": [
    "## String Formatting"
   ]
  },
  {
   "cell_type": "code",
   "execution_count": null,
   "id": "f2827076",
   "metadata": {},
   "outputs": [],
   "source": [
    "name = \"Ali\"\n",
    "str = \"Hello my name is {}\"\n",
    "\n",
    "print(str.format(name))\n",
    "###########################################################################################################################\n",
    "print(f\"My name is {name}\")\n",
    "###########################################################################################################################\n",
    "loc = r\"D:\\New folder\\Uni\\uni.txt\"\n",
    "with open(loc,\"r\") as file_obj:\n",
    "    txt = file_obj.read()\n",
    "    print(txt)\n",
    "###########################################################################################################################\n",
    "print(fr\"Location is D:\\New folder\\Uni\\{name}\")"
   ]
  },
  {
   "attachments": {},
   "cell_type": "markdown",
   "id": "6614aff1",
   "metadata": {},
   "source": [
    "## Type Casting"
   ]
  },
  {
   "cell_type": "code",
   "execution_count": 18,
   "id": "1ebb6a44",
   "metadata": {},
   "outputs": [
    {
     "name": "stdout",
     "output_type": "stream",
     "text": [
      "50.5\n",
      "<class 'str'>\n"
     ]
    }
   ],
   "source": [
    "str7 = str(50.5)\n",
    "print(str7)\n",
    "print(type(str7))"
   ]
  },
  {
   "attachments": {},
   "cell_type": "markdown",
   "id": "78e7c014",
   "metadata": {
    "jp-MarkdownHeadingCollapsed": true,
    "tags": []
   },
   "source": [
    "## Operators"
   ]
  },
  {
   "cell_type": "code",
   "execution_count": null,
   "id": "7b317e70",
   "metadata": {},
   "outputs": [],
   "source": [
    "# Arithmatic Operators\n",
    "x+y, x-y, x*y, x/y, x%y, x**y, x//y\n",
    "###########################################################################################################################\n",
    "# Comparison Operators\n",
    "x==y, x!=y, x>y, x<y, x>=y, x<=y\n",
    "###########################################################################################################################\n",
    "# Assignment Operators\n",
    "x=5, x+=3, x-=3, x*=3, x/=3, x%=3, x//=3, x**=3,\n",
    "###########################################################################################################################\n",
    "# Logical Operators\n",
    "and, or, not\n",
    "###########################################################################################################################\n",
    "# Identity Operators\n",
    "is, is not\n",
    "###########################################################################################################################\n",
    "# Membership Operators\n",
    "in, not in"
   ]
  },
  {
   "attachments": {},
   "cell_type": "markdown",
   "id": "0506c7c3",
   "metadata": {
    "jp-MarkdownHeadingCollapsed": true,
    "tags": []
   },
   "source": [
    "## Conditional Statements\n",
    "##### If-Elif-Else / Ternaroy / Switch"
   ]
  },
  {
   "cell_type": "code",
   "execution_count": null,
   "id": "cb37177e",
   "metadata": {},
   "outputs": [],
   "source": [
    "# If-Elif-Else Statement\n",
    "a = 200\n",
    "b = 200\n",
    "if b > a:\n",
    "    print(\"b is greater than a\")\n",
    "elif a == b:\n",
    "    pass\n",
    "else:\n",
    "    print(\"a is greater than b\")\n",
    "###########################################################################################################################\n",
    "# Ternary Operator\n",
    "# (condition ? exprIfTrue : exprIfFalse) this syntax is used in C, Java, JavaScript, PHP but in Python it is different.\n",
    "print (\"Both a and b are equal\" if a == b else \"a is greater than b\" if a > b else \"b is greater than a\")\n",
    "###########################################################################################################################\n",
    "# Switch Statement\n",
    "lang = input(\"What's the programming language you want to learn? \")\n",
    "match lang:\n",
    "    case \"JavaScript\":\n",
    "        print(\"You can become a Web Developer.\")\n",
    "\n",
    "    case \"Python\":\n",
    "        print(\"You can become a Data Scientist\")\n",
    "\n",
    "    case \"PHP\":\n",
    "        print(\"You can become a Backend Developer\")\n",
    "\n",
    "    case _:\n",
    "        print(\"The language doesn't matter, what matters is solving problems.\")"
   ]
  },
  {
   "attachments": {},
   "cell_type": "markdown",
   "id": "626645c8",
   "metadata": {
    "jp-MarkdownHeadingCollapsed": true,
    "tags": []
   },
   "source": [
    "## Loops\n",
    "##### While / For"
   ]
  },
  {
   "cell_type": "code",
   "execution_count": null,
   "id": "743d8baf",
   "metadata": {},
   "outputs": [],
   "source": [
    "# While Loop\n",
    "print(\"While Loop using pass, continue, break, else\")\n",
    "i = 1\n",
    "while i < 6:\n",
    "    print(i)\n",
    "    i += 1\n",
    "    if i == 3:\n",
    "        pass\n",
    "    if i == 4:\n",
    "        continue\n",
    "    if i == 5:\n",
    "        break\n",
    "else:\n",
    "    print(\"i is no longer less than 6\")\n",
    "###########################################################################################################################\n",
    "# For Loop\n",
    "print(\"\\nFor Loops\")\n",
    "print(\"String Iteration\")\n",
    "s = \"Geeks\"\n",
    "for i in s:\n",
    "    print(i)\n",
    "###########################################################################################################################\n",
    "print(\"\\nList Iteration using Name\")\n",
    "primes = [2, 3, 5, 7]\n",
    "for prime in primes:\n",
    "    print(prime)\n",
    "###########################################################################################################################\n",
    "print(\"\\nList Iteration using Index\")\n",
    "list = [\"geeks\", \"for\", \"geeks\"]\n",
    "for index in range(len(list)):\n",
    "    print(list[index])\n",
    "###########################################################################################################################\n",
    "print(\"\\nTuple Iteration\")\n",
    "t = (\"geeks\", \"for\", \"geeks\")\n",
    "for i in t:\n",
    "    print(i)\n",
    "###########################################################################################################################\n",
    "print(\"\\nIteration using Range\")\n",
    "for x in range(2, 10, 2):\n",
    "    print(x)\n",
    "###########################################################################################################################\n",
    "print(\"\\nSet Iteration\")\n",
    "set1 = {1, 2, 3}\n",
    "for i in set1:\n",
    "    print(i)\n",
    "###########################################################################################################################\n",
    "print(\"\\nDictionary Iteration\")\n",
    "d = dict()\n",
    "d['xyz'] = 123\n",
    "d['abc'] = 345\n",
    "for i in d:\n",
    "    print(\"%s  %d\" % (i, d[i]))"
   ]
  },
  {
   "cell_type": "markdown",
   "id": "6c23d57e",
   "metadata": {},
   "source": [
    "## Scope in Python\n",
    "###### => Built-in\n",
    "###### => Global\n",
    "###### => Enclosing\n",
    "###### => Local"
   ]
  },
  {
   "attachments": {},
   "cell_type": "markdown",
   "id": "f20106a5",
   "metadata": {
    "jp-MarkdownHeadingCollapsed": true,
    "tags": []
   },
   "source": [
    "## Functions\n",
    "##### Built-in / User-Defined"
   ]
  },
  {
   "cell_type": "code",
   "execution_count": null,
   "id": "d96bb237",
   "metadata": {},
   "outputs": [],
   "source": [
    "print(\"User-Defined Functions\")\n",
    "print(\"\\nFunction with default value\")\n",
    "def my_function(country = \"Norway\"):\n",
    "    print(\"I am from \" + country)\n",
    "my_function(\"Sweden\")\n",
    "my_function()\n",
    "###########################################################################################################################\n",
    "print(\"\\nFunction with key=value arguments\")\n",
    "def my_function(child1, child2, child3):\n",
    "    print(\"The youngest child is \" + child3)\n",
    "my_function(child1 = \"Emil\", child2 = \"Tobias\", child3 = \"Linus\") \n",
    "###########################################################################################################################\n",
    "print(\"\\nFunction with Arbitrary Arguments\")\n",
    "def my_function(*kids):\n",
    "    print(\"The youngest child is \" + kids[2])\n",
    "my_function(\"Emil\", \"Tobias\", \"Linus\")\n",
    "###########################################################################################################################\n",
    "print(\"\\nFunction with Arbitrary Keyword Arguments\")\n",
    "def my_function(**kid):\n",
    "    print(\"His last name is \" + kid[\"lname\"])\n",
    "my_function(fname = \"Tobias\", lname = \"Refsnes\")\n",
    "###########################################################################################################################\n",
    "print(\"\\nFunction with Passing a List as an Argument\")\n",
    "def my_function(food):\n",
    "    for x in food:\n",
    "        print(x)\n",
    "fruits = [\"apple\", \"banana\", \"cherry\"]\n",
    "my_function(fruits)\n",
    "###########################################################################################################################\n",
    "print(\"\\nLambda Function\")\n",
    "def myfunc(n):\n",
    "    return lambda a : a * n\n",
    "\n",
    "mydoubler = myfunc(2)\n",
    "mytripler = myfunc(3)\n",
    "print(mydoubler(11))\n",
    "print(mytripler(11))"
   ]
  },
  {
   "attachments": {},
   "cell_type": "markdown",
   "id": "053f8de9",
   "metadata": {
    "jp-MarkdownHeadingCollapsed": true,
    "tags": []
   },
   "source": [
    "## Recursion"
   ]
  },
  {
   "cell_type": "code",
   "execution_count": null,
   "id": "dd645e97",
   "metadata": {},
   "outputs": [],
   "source": [
    "def tri_recursion(k):\n",
    "    if(k > 0):\n",
    "        result = k + tri_recursion(k - 1)\n",
    "        print(result)\n",
    "    else:\n",
    "        result = 0\n",
    "    return result\n",
    "\n",
    "print(\"\\nRecursion Example Results\")\n",
    "tri_recursion(6)"
   ]
  },
  {
   "attachments": {},
   "cell_type": "markdown",
   "id": "f2676cb4",
   "metadata": {
    "jp-MarkdownHeadingCollapsed": true,
    "tags": []
   },
   "source": [
    "## Methods\n",
    "##### A method is a function that “belongs to” an object."
   ]
  },
  {
   "cell_type": "code",
   "execution_count": null,
   "id": "6ca889ed",
   "metadata": {},
   "outputs": [],
   "source": [
    "# String Methods\n",
    "# List Methods\n",
    "# Tuple Methods\n",
    "# Set Methods\n",
    "# Dictionary Methods\n",
    "# File Methods"
   ]
  },
  {
   "attachments": {},
   "cell_type": "markdown",
   "id": "f7496574",
   "metadata": {
    "jp-MarkdownHeadingCollapsed": true,
    "tags": []
   },
   "source": [
    "## Object Oriented Programming\n",
    "##### Class / Attributes / Methods / Constructor / Object "
   ]
  },
  {
   "cell_type": "code",
   "execution_count": null,
   "id": "02e59db0",
   "metadata": {},
   "outputs": [],
   "source": [
    "class Person:\n",
    "    #Constructor\n",
    "    def __init__(self, name, age):\n",
    "        #Attributes\n",
    "        self.name = name\n",
    "        self.age = age\n",
    "    #define a string representation of an object of that class.\n",
    "    def __str__(self):\n",
    "        return f\"{self.name}({self.age})\"\n",
    "    #Method\n",
    "    def myfunc(self):\n",
    "        print(\"Hello my name is\", self.name , \"and my age is\",self.age)\n",
    "#Object\n",
    "p1 = Person(\"John\", 36)\n",
    "p1.age = 40\n",
    "print(p1) \n",
    "p1.myfunc()"
   ]
  },
  {
   "attachments": {},
   "cell_type": "markdown",
   "id": "d27d1beb",
   "metadata": {},
   "source": [
    "## Inheritance\n",
    "##### Single, Multiple, Multi-Level, Hierarchical, Hybrid\n",
    "##### super()"
   ]
  },
  {
   "cell_type": "code",
   "execution_count": null,
   "id": "02258fa8",
   "metadata": {},
   "outputs": [],
   "source": [
    "class Student(Person):\n",
    "    pass \n",
    "\n",
    "x = Student(\"Mike\", 28)\n",
    "x.myfunc() \n",
    "###########################################################################################################################\n",
    "class Student(Person):\n",
    "    def __init__(self, name, age, year):\n",
    "        super().__init__(name, age)\n",
    "        self.graduationyear = year\n",
    "\n",
    "    def myfunc(self):\n",
    "        print(\"Welcome\", self.name, self.age, \"to the class of\", self.graduationyear)\n",
    "\n",
    "x = Student(\"Mike\", 28, 2019)\n",
    "x.myfunc()"
   ]
  },
  {
   "attachments": {},
   "cell_type": "markdown",
   "id": "67e4ca9e",
   "metadata": {},
   "source": [
    "## Polymorphism\n",
    "##### Method, Constructor, Operator, Overloading, Overriding, Final"
   ]
  },
  {
   "attachments": {},
   "cell_type": "markdown",
   "id": "c8353470",
   "metadata": {},
   "source": [
    "## Encapsulation\n",
    "##### Public, Private, Getter, Setter"
   ]
  },
  {
   "attachments": {},
   "cell_type": "markdown",
   "id": "8cac4cae",
   "metadata": {},
   "source": [
    "## Abstraction\n",
    "##### Abstract Class, Methods, Interface"
   ]
  },
  {
   "attachments": {},
   "cell_type": "markdown",
   "id": "ae982b29",
   "metadata": {
    "jp-MarkdownHeadingCollapsed": true,
    "tags": []
   },
   "source": [
    "## File Handling"
   ]
  },
  {
   "cell_type": "code",
   "execution_count": null,
   "id": "d0315d3c",
   "metadata": {},
   "outputs": [],
   "source": [
    "f = open(\"demo.txt\", \"rt\")\n",
    "print(f.read())\n",
    "f.close() \n",
    "###########################################################################################################################\n",
    "f = open(\"demo.txt\", \"a\")\n",
    "f.write(\"Now the file has more content!\")\n",
    "f.close()\n",
    "###########################################################################################################################\n",
    "f = open(\"demo.txt\", \"rt\")\n",
    "print(f.read())\n",
    "f.close() \n",
    "###########################################################################################################################\n",
    "f = open(\"demo.txt\", \"w\")\n",
    "f.write(\"Woops! I have Overridden the content!\")\n",
    "f.close()\n",
    "###########################################################################################################################\n",
    "f = open(\"demo.txt\", \"rt\")\n",
    "print(f.read())\n",
    "f.close()\n",
    "###########################################################################################################################\n",
    "f = open(\"myfile1.txt\", \"x\")\n",
    "f = open(\"myfile2.txt\", \"w\")\n",
    "###########################################################################################################################\n",
    "import os\n",
    "if os.path.exists(\"demofile.txt\"):\n",
    "    os.remove(\"demofile.txt\")\n",
    "else:\n",
    "    print(\"The file does not exist\") "
   ]
  },
  {
   "attachments": {},
   "cell_type": "markdown",
   "id": "58384b6d",
   "metadata": {
    "jp-MarkdownHeadingCollapsed": true,
    "tags": []
   },
   "source": [
    "## Exception Handling"
   ]
  },
  {
   "cell_type": "code",
   "execution_count": null,
   "id": "a3f2cd64",
   "metadata": {},
   "outputs": [],
   "source": [
    "try:\n",
    "    f = open(\"demofile.txt\")\n",
    "    try:\n",
    "        f.write(\"Lorum Ipsum\")\n",
    "    except:\n",
    "        print(\"Something went wrong when writing to the file\")\n",
    "    finally:\n",
    "        f.close()\n",
    "except:\n",
    "    print(\"Something went wrong when opening the file\") \n",
    "###########################################################################################################################\n",
    "x = int(input(\"Enter an Integer.\"))\n",
    "if not type(x) is int:\n",
    "    raise TypeError(\"Only integers are allowed\") \n",
    "else:\n",
    "    print(x)"
   ]
  },
  {
   "attachments": {},
   "cell_type": "markdown",
   "id": "7d1ebe3a",
   "metadata": {
    "jp-MarkdownHeadingCollapsed": true,
    "tags": []
   },
   "source": [
    "## Modules\n",
    "##### A file containing a set of functions you want to include in your application."
   ]
  },
  {
   "cell_type": "code",
   "execution_count": null,
   "id": "598ceeb4",
   "metadata": {},
   "outputs": [],
   "source": [
    "# Built-in Modules\n",
    "import platform\n",
    "\n",
    "x = platform.system()\n",
    "print(x) \n",
    "###########################################################################################################################\n",
    "# User Defined Modules\n",
    "import Module as md\n",
    "from Module import person\n",
    "\n",
    "md.greeting(\"Jonathan\")\n",
    "person"
   ]
  },
  {
   "attachments": {},
   "cell_type": "markdown",
   "id": "564ff7db",
   "metadata": {},
   "source": [
    "## Image Processing Library"
   ]
  },
  {
   "cell_type": "code",
   "execution_count": null,
   "id": "13f517b9",
   "metadata": {},
   "outputs": [],
   "source": [
    "from PIL import Image, ImageFilter"
   ]
  },
  {
   "cell_type": "code",
   "execution_count": null,
   "id": "ab1fe96e",
   "metadata": {},
   "outputs": [],
   "source": [
    "before = Image.open(\"face.jpg\")\n",
    "\n",
    "after1 = before.filter(ImageFilter.BoxBlur(10))\n",
    "after2 = before.filter(ImageFilter.FIND_EDGES)\n",
    "\n",
    "after1.save(\"bface.jpg\")\n",
    "after2.save(\"eface.jpg\")"
   ]
  },
  {
   "attachments": {},
   "cell_type": "markdown",
   "id": "f188eeb6",
   "metadata": {},
   "source": [
    "## Text to Speech Library"
   ]
  },
  {
   "cell_type": "code",
   "execution_count": null,
   "id": "a86e0543",
   "metadata": {
    "scrolled": true
   },
   "outputs": [],
   "source": [
    "import pyttsx3\n",
    "engine = pyttsx3.init()\n",
    "engine.save_to_file(\"The state institutions should stay within their constitutional limits, Defence Minister Khawaja Asif said Friday, as he asserted that the government would not allow anyone to interfere with the parliament's matters.The top minister's comments came as the federal government is in a virtual standoff with the Supreme Court over the issue of the Punjab and Khyber Pakhtunkhwa general elections and a bill that seeks to curtail the chief justice's suo motu powers.\" , \"test.mp3\")\n",
    "engine.runAndWait()"
   ]
  },
  {
   "cell_type": "markdown",
   "id": "547c1180",
   "metadata": {},
   "source": [
    "## Time Complexity"
   ]
  },
  {
   "cell_type": "code",
   "execution_count": 25,
   "id": "fde4e48e",
   "metadata": {},
   "outputs": [
    {
     "name": "stdout",
     "output_type": "stream",
     "text": [
      "0 0 0 0 0 \n",
      "0 0 0 0 0 \n",
      "0 0 0 0 0 \n",
      "0 0 0 0 0 \n",
      "0 0 0 0 0 \n",
      "0.0\n"
     ]
    }
   ],
   "source": [
    "import time\n",
    "start_time = time.time()\n",
    "\n",
    "for i in range(5):\n",
    "  for j in range(5):\n",
    "    print(0, end=\" \")\n",
    "  print()\n",
    "  \n",
    "end_time = time.time()\n",
    "print(round(end_time - start_time,2))"
   ]
  }
 ],
 "metadata": {
  "kernelspec": {
   "display_name": "Python 3 (ipykernel)",
   "language": "python",
   "name": "python3"
  },
  "language_info": {
   "codemirror_mode": {
    "name": "ipython",
    "version": 3
   },
   "file_extension": ".py",
   "mimetype": "text/x-python",
   "name": "python",
   "nbconvert_exporter": "python",
   "pygments_lexer": "ipython3",
   "version": "3.10.11"
  },
  "vscode": {
   "interpreter": {
    "hash": "ee8f69ac48d63dbe3f9b7f6fc1c601e4cd314925862c0b42bde50e4e6cf0a515"
   }
  }
 },
 "nbformat": 4,
 "nbformat_minor": 5
}
